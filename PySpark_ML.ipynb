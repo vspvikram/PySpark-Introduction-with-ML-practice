{
 "cells": [
  {
   "attachments": {},
   "cell_type": "markdown",
   "metadata": {},
   "source": [
    "<br><br><br>\n",
    "\n",
    "\n",
    "<span style=\"color:red;font-size:60px\">PySpark Introduction with ML Practice</span>\n",
    "<br><br><br>\n",
    "In this notebook, we'll compare the results of a random forest classifier with the results from a logistic regression classifier on the California housing data. Working with python gives us access to easy graphics (matplotlib.pyplot) so we can draw ROC curves and precision-recall curves easily. We'll also get some practice with other feature transformers available in Spark.\n",
    "\n",
    "Just follow the steps below - carefully - and you should not have a problem\n"
   ]
  },
  {
   "cell_type": "markdown",
   "metadata": {},
   "source": [
    "<br><br><br>\n",
    "<span style=\"color:green;font-size:xx-large\">STEP 1: Initialize PySpark</span>"
   ]
  },
  {
   "cell_type": "code",
   "execution_count": 171,
   "metadata": {},
   "outputs": [],
   "source": [
    "#Pyspark initialization \n",
    "import pyspark\n",
    "from pyspark.sql import SparkSession\n",
    "\n",
    "spark = SparkSession.builder.appName(\"Pyspark ML practice\").getOrCreate()\n",
    "sc = spark.sparkContext"
   ]
  },
  {
   "attachments": {},
   "cell_type": "markdown",
   "metadata": {},
   "source": [
    "<br><br><br>\n",
    "<span style=\"color:green;font-size:xx-large\">STEP 2: necessary imports</span>\n"
   ]
  },
  {
   "cell_type": "code",
   "execution_count": 172,
   "metadata": {},
   "outputs": [],
   "source": [
    "from pyspark.sql.types import *\n",
    "from pyspark.sql.functions import col\n",
    "from pyspark.sql.types import DoubleType\n",
    "from pyspark.ml.feature import QuantileDiscretizer\n",
    "from pyspark.ml.feature import VectorAssembler\n",
    "from pyspark.ml.classification import RandomForestClassifier\n",
    "\n",
    "from pyspark.ml import Pipeline, PipelineModel\n",
    "from pyspark.ml.evaluation import MulticlassClassificationEvaluator\n",
    "from pyspark.ml.classification import LogisticRegression\n",
    "from pyspark.ml.evaluation import BinaryClassificationEvaluator"
   ]
  },
  {
   "cell_type": "markdown",
   "metadata": {},
   "source": [
    "<br><br><br>\n",
    "<span style=\"color:green;font-size:xx-large\">STEP 3: Read the data and split into training and testing sets</span>\n",
    "<li>Convert the Scala Spark function into a PySpark function</li>"
   ]
  },
  {
   "cell_type": "code",
   "execution_count": 173,
   "metadata": {},
   "outputs": [],
   "source": [
    "from pyspark.sql import DataFrame\n",
    "\n",
    "\n",
    "def readData(): \n",
    "    df = spark.read.option('header', False)\\\n",
    "    .option(\"infersschema\", True)\\\n",
    "    .csv(\"cal_housing.data\")\\\n",
    "    .toDF(\"Longitude\",\"Latitude\",\"MedianAge\",\n",
    "                     \"TotalRooms\",\"TotalBedrooms\",\"Population\",\"Households\",\n",
    "                     \"MedianIncome\",\"MedianHomeValue\")\n",
    "    \n",
    "    for c in df.columns:\n",
    "        df = df.withColumn(c, col(c).cast(DoubleType()))\n",
    "    \n",
    "    train,test = df.randomSplit((0.8,0.2),seed=1234)\n",
    "    return train,test\n",
    "\n",
    "train,test = readData()"
   ]
  },
  {
   "cell_type": "code",
   "execution_count": 174,
   "metadata": {},
   "outputs": [
    {
     "name": "stdout",
     "output_type": "stream",
     "text": [
      "root\n",
      " |-- Longitude: double (nullable = true)\n",
      " |-- Latitude: double (nullable = true)\n",
      " |-- MedianAge: double (nullable = true)\n",
      " |-- TotalRooms: double (nullable = true)\n",
      " |-- TotalBedrooms: double (nullable = true)\n",
      " |-- Population: double (nullable = true)\n",
      " |-- Households: double (nullable = true)\n",
      " |-- MedianIncome: double (nullable = true)\n",
      " |-- MedianHomeValue: double (nullable = true)\n",
      "\n"
     ]
    }
   ],
   "source": [
    "train.printSchema()"
   ]
  },
  {
   "cell_type": "code",
   "execution_count": 175,
   "metadata": {
    "scrolled": true
   },
   "outputs": [
    {
     "name": "stdout",
     "output_type": "stream",
     "text": [
      "+---------+--------+---------+----------+-------------+----------+----------+------------+---------------+\n",
      "|Longitude|Latitude|MedianAge|TotalRooms|TotalBedrooms|Population|Households|MedianIncome|MedianHomeValue|\n",
      "+---------+--------+---------+----------+-------------+----------+----------+------------+---------------+\n",
      "|  -124.35|   40.54|     52.0|    1820.0|        300.0|     806.0|     270.0|      3.0147|        94600.0|\n",
      "|   -124.3|   41.84|     17.0|    2677.0|        531.0|    1244.0|     456.0|      3.0313|       103600.0|\n",
      "|  -124.27|   40.69|     36.0|    2349.0|        528.0|    1194.0|     465.0|      2.5179|        79000.0|\n",
      "|  -124.25|   40.28|     32.0|    1430.0|        419.0|     434.0|     187.0|      1.9417|        76100.0|\n",
      "|  -124.23|   40.54|     52.0|    2694.0|        453.0|    1152.0|     435.0|      3.0806|       106700.0|\n",
      "+---------+--------+---------+----------+-------------+----------+----------+------------+---------------+\n",
      "only showing top 5 rows\n",
      "\n"
     ]
    }
   ],
   "source": [
    "train.show(5)"
   ]
  },
  {
   "cell_type": "markdown",
   "metadata": {},
   "source": [
    "<br><br><br>\n",
    "<span style=\"color:green;font-size:xx-large\">STEP 4: Write the prepareData function</span>\n",
    "<li>Convert the Scala Spark function into a PySpark function</li>"
   ]
  },
  {
   "cell_type": "code",
   "execution_count": 176,
   "metadata": {},
   "outputs": [
    {
     "data": {
      "text/plain": [
       "DataFrame[MedianAge: double, Population: double, Households: double, MedianIncome: double, RoomsPerHouse: double, PeoplePerHouse: double, BedroomsPerHouse: double, Latitude: double, Longitude: double, MedianHomeValue: double]"
      ]
     },
     "execution_count": 176,
     "metadata": {},
     "output_type": "execute_result"
    }
   ],
   "source": [
    "from pyspark.sql import DataFrame\n",
    "\n",
    "\n",
    "def prepareData(df): \n",
    "    df = df.withColumn(\"MedianHomeValue\",col(\"MedianHomeValue\")/100000)\\\n",
    "        .withColumn(\"RoomsPerHouse\", col(\"TotalRooms\")/col(\"Households\"))\\\n",
    "        .withColumn(\"PeoplePerHouse\", col(\"Population\")/col(\"Households\"))\\\n",
    "        .withColumn(\"BedroomsPerHouse\", col(\"TotalBedrooms\")/col(\"Households\"))\\\n",
    "        .select('MedianAge',\n",
    "                'Population',\n",
    "                'Households',\n",
    "                'MedianIncome',\n",
    "                'RoomsPerHouse',\n",
    "                'PeoplePerHouse',\n",
    "                'BedroomsPerHouse',\n",
    "                'Latitude',\n",
    "                'Longitude',\n",
    "                'MedianHomeValue',\n",
    "             )\n",
    "    #Rest of the code goes here\n",
    "\n",
    "    \n",
    "    \n",
    "    return df\n",
    "\n",
    "prepareData(train)"
   ]
  },
  {
   "cell_type": "code",
   "execution_count": 177,
   "metadata": {},
   "outputs": [
    {
     "data": {
      "text/plain": [
       "['Longitude',\n",
       " 'Latitude',\n",
       " 'MedianAge',\n",
       " 'TotalRooms',\n",
       " 'TotalBedrooms',\n",
       " 'Population',\n",
       " 'Households',\n",
       " 'MedianIncome',\n",
       " 'MedianHomeValue']"
      ]
     },
     "execution_count": 177,
     "metadata": {},
     "output_type": "execute_result"
    }
   ],
   "source": [
    "train.columns"
   ]
  },
  {
   "cell_type": "code",
   "execution_count": 178,
   "metadata": {},
   "outputs": [
    {
     "name": "stdout",
     "output_type": "stream",
     "text": [
      "root\n",
      " |-- Longitude: double (nullable = true)\n",
      " |-- Latitude: double (nullable = true)\n",
      " |-- MedianAge: double (nullable = true)\n",
      " |-- TotalRooms: double (nullable = true)\n",
      " |-- TotalBedrooms: double (nullable = true)\n",
      " |-- Population: double (nullable = true)\n",
      " |-- Households: double (nullable = true)\n",
      " |-- MedianIncome: double (nullable = true)\n",
      " |-- MedianHomeValue: double (nullable = true)\n",
      "\n"
     ]
    }
   ],
   "source": [
    "train.printSchema()"
   ]
  },
  {
   "attachments": {},
   "cell_type": "markdown",
   "metadata": {},
   "source": [
    "<br><br><br>\n",
    "<span style=\"color:green;font-size:xx-large\">STEP 5: Transform the dependent variable into two buckets</span>\n",
    "\n",
    "<li>Using QuantileDiscretizer with two buckets</li>\n",
    "<li>QuantileDiscretizer bins a continuous column into n buckets across the range of values in that column</li>\n",
    "<li>When n=2, we'll get 0 and 1 as the two values setting up the dv as a binary classification problem</li>\n",
    "<li>Note: In this case, the interpretation of the dv is:\n",
    "    <ul>\n",
    "        <li>0: low median housing value</li>\n",
    "        <li>1: high median housing value</li>\n",
    "    </ul>\n",
    "<li><a href=\"https://spark.apache.org/docs/latest/ml-features#quantilediscretizer\">https://spark.apache.org/docs/latest/ml-features#quantilediscretizer</a></li>\n"
   ]
  },
  {
   "cell_type": "code",
   "execution_count": 179,
   "metadata": {},
   "outputs": [],
   "source": [
    "discretizer = QuantileDiscretizer(numBuckets=2, inputCol=\"MedianHomeValue\",\n",
    "                                 outputCol=\"DVBucket\")\n",
    "\n",
    "bucketizer = discretizer.fit(prepareData(train))\n",
    "bucketed = bucketizer.transform(prepareData(train))\n"
   ]
  },
  {
   "cell_type": "code",
   "execution_count": 180,
   "metadata": {},
   "outputs": [
    {
     "name": "stdout",
     "output_type": "stream",
     "text": [
      "+---------+----------+----------+------------+------------------+------------------+------------------+--------+---------+---------------+--------+\n",
      "|MedianAge|Population|Households|MedianIncome|     RoomsPerHouse|    PeoplePerHouse|  BedroomsPerHouse|Latitude|Longitude|MedianHomeValue|DVBucket|\n",
      "+---------+----------+----------+------------+------------------+------------------+------------------+--------+---------+---------------+--------+\n",
      "|     52.0|     806.0|     270.0|      3.0147|6.7407407407407405|2.9851851851851854|1.1111111111111112|   40.54|  -124.35|          0.946|     0.0|\n",
      "|     17.0|    1244.0|     456.0|      3.0313| 5.870614035087719|2.7280701754385963|1.1644736842105263|   41.84|   -124.3|          1.036|     0.0|\n",
      "|     36.0|    1194.0|     465.0|      2.5179| 5.051612903225807| 2.567741935483871| 1.135483870967742|   40.69|  -124.27|           0.79|     0.0|\n",
      "|     32.0|     434.0|     187.0|      1.9417| 7.647058823529412| 2.320855614973262|2.2406417112299466|   40.28|  -124.25|          0.761|     0.0|\n",
      "|     52.0|    1152.0|     435.0|      3.0806|6.1931034482758625|2.6482758620689655|1.0413793103448277|   40.54|  -124.23|          1.067|     0.0|\n",
      "+---------+----------+----------+------------+------------------+------------------+------------------+--------+---------+---------------+--------+\n",
      "only showing top 5 rows\n",
      "\n"
     ]
    }
   ],
   "source": [
    "bucketed.show(5)"
   ]
  },
  {
   "attachments": {},
   "cell_type": "markdown",
   "metadata": {},
   "source": [
    "<br><br><br>\n",
    "<span style=\"color:green;font-size:xx-large\">STEP 6: Assemble the independent variables in a features vector</span>\n",
    "<li>Use VectorAssembler for this</li>"
   ]
  },
  {
   "cell_type": "code",
   "execution_count": 181,
   "metadata": {},
   "outputs": [
    {
     "name": "stdout",
     "output_type": "stream",
     "text": [
      "+---------+----------+----------+------------+------------------+------------------+------------------+--------+---------+---------------+--------------------+\n",
      "|MedianAge|Population|Households|MedianIncome|     RoomsPerHouse|    PeoplePerHouse|  BedroomsPerHouse|Latitude|Longitude|MedianHomeValue|            features|\n",
      "+---------+----------+----------+------------+------------------+------------------+------------------+--------+---------+---------------+--------------------+\n",
      "|     52.0|     806.0|     270.0|      3.0147|6.7407407407407405|2.9851851851851854|1.1111111111111112|   40.54|  -124.35|          0.946|[52.0,806.0,270.0...|\n",
      "|     17.0|    1244.0|     456.0|      3.0313| 5.870614035087719|2.7280701754385963|1.1644736842105263|   41.84|   -124.3|          1.036|[17.0,1244.0,456....|\n",
      "|     36.0|    1194.0|     465.0|      2.5179| 5.051612903225807| 2.567741935483871| 1.135483870967742|   40.69|  -124.27|           0.79|[36.0,1194.0,465....|\n",
      "|     32.0|     434.0|     187.0|      1.9417| 7.647058823529412| 2.320855614973262|2.2406417112299466|   40.28|  -124.25|          0.761|[32.0,434.0,187.0...|\n",
      "|     52.0|    1152.0|     435.0|      3.0806|6.1931034482758625|2.6482758620689655|1.0413793103448277|   40.54|  -124.23|          1.067|[52.0,1152.0,435....|\n",
      "|     52.0|     544.0|     172.0|      3.3462| 6.465116279069767|3.1627906976744184|1.2151162790697674|   40.81|  -124.23|          0.508|[52.0,544.0,172.0...|\n",
      "|     11.0|    1343.0|     479.0|      2.4805|6.5949895615866385|2.8037578288100207|1.2860125260960333|   41.75|  -124.23|          0.732|[11.0,1343.0,479....|\n",
      "|     28.0|    1530.0|     653.0|      1.7038| 4.598774885145483| 2.343032159264931|1.0704441041347625|   41.73|  -124.22|          0.783|[28.0,1530.0,653....|\n",
      "|     32.0|     620.0|     268.0|      1.6528| 4.544776119402985|2.3134328358208953|1.2350746268656716|   40.75|  -124.21|          0.581|[32.0,620.0,268.0...|\n",
      "|     20.0|    1993.0|     721.0|      2.0074| 5.284327323162275| 2.764216366158114|1.0915395284327323|   41.75|  -124.21|          0.669|[20.0,1993.0,721....|\n",
      "|     17.0|    1947.0|     647.0|      2.5795| 5.349304482225657| 3.009273570324575|1.1159196290571871|   41.77|  -124.21|          0.684|[17.0,1947.0,647....|\n",
      "|     21.0|    2907.0|     972.0|      3.5363|5.8580246913580245| 2.990740740740741|1.0864197530864197|   40.73|  -124.19|          0.901|[21.0,2907.0,972....|\n",
      "|     30.0|    1367.0|     583.0|       2.442| 5.102915951972555|2.3447684391080617|1.0874785591766725|   40.77|  -124.19|           0.69|[30.0,1367.0,583....|\n",
      "|     37.0|     640.0|     260.0|      1.8242| 5.273076923076923|2.4615384615384617| 1.226923076923077|   40.78|  -124.19|            0.7|[37.0,640.0,260.0...|\n",
      "|     15.0|    1645.0|     640.0|      1.6654|           4.90625|         2.5703125|          1.115625|   41.78|  -124.19|          0.746|[15.0,1645.0,640....|\n",
      "|     35.0|     480.0|     179.0|      3.0536| 5.318435754189944|2.6815642458100557| 0.994413407821229|   40.62|  -124.18|           1.07|[35.0,480.0,179.0...|\n",
      "|     33.0|     656.0|     236.0|      2.5096| 4.559322033898305|2.7796610169491527| 0.940677966101695|   40.78|  -124.18|          0.722|[33.0,656.0,236.0...|\n",
      "|     34.0|     950.0|     317.0|      2.1607| 5.022082018927445| 2.996845425867508|1.1482649842271293|   40.78|  -124.18|           0.67|[34.0,950.0,317.0...|\n",
      "|     37.0|     867.0|     310.0|      2.5536| 4.687096774193549| 2.796774193548387|0.9451612903225807|   40.78|  -124.18|          0.702|[37.0,867.0,310.0...|\n",
      "|     40.0|     788.0|     279.0|      1.4668| 5.010752688172043| 2.824372759856631| 1.114695340501792|   40.79|  -124.18|          0.646|[40.0,788.0,279.0...|\n",
      "+---------+----------+----------+------------+------------------+------------------+------------------+--------+---------+---------------+--------------------+\n",
      "only showing top 20 rows\n",
      "\n"
     ]
    }
   ],
   "source": [
    "from pyspark.ml.feature import VectorAssembler\n",
    "from pyspark.ml.linalg import Matrix, Vectors\n",
    "\n",
    "#Get the names of all columns except MedianHomeValue \n",
    "cols = prepareData(train).columns\n",
    "cols.remove(\"MedianHomeValue\")\n",
    "\n",
    "\n",
    "#Create a vectorassembler from the list of columns and specify the name of the column of vectors\n",
    "assembler = VectorAssembler(outputCol=\"features\", inputCols=cols)\n",
    "\n",
    "#Apply the transform function on the data frame, select the dv and features column\n",
    "#And rename the dv column to label\n",
    "\n",
    "vector_df = assembler.transform(prepareData(train))\n",
    "# vector_df = bucketizer.transform(vector_df)\n",
    "#             .select(\"features\", \"DVBucket\")\n",
    "\n",
    "vector_df.show()"
   ]
  },
  {
   "attachments": {},
   "cell_type": "markdown",
   "metadata": {},
   "source": [
    "<br><br><br><br>\n",
    "<span style=\"color:red;font-size:40px\">ML Models: Logistic Regression and Random Forest</span>\n",
    "<br><br>\n",
    "we'll build a logistic regression model and a random forest classifer and then compare the results on the two models. For this, we need to do the following:\n",
    "<li>Create a pipeline for the logistic regression model</li>\n",
    "<li>Create a pipeline for the random forest model</li>\n",
    "<li>Evaluate and compare both models</li>\n",
    "<li><a href=\"https://spark.apache.org/docs/latest/ml-classification-regression.html\">https://spark.apache.org/docs/latest/ml-classification-regression.html</a></li>"
   ]
  },
  {
   "cell_type": "markdown",
   "metadata": {},
   "source": [
    "<br><br><br>\n",
    "<span style=\"color:green;font-size:xx-large\">STEP 7: Create the two classifers</span>\n",
    "\n"
   ]
  },
  {
   "cell_type": "code",
   "execution_count": 183,
   "metadata": {},
   "outputs": [],
   "source": [
    "rrr = RandomForestClassifier()\\\n",
    "    .setFeaturesCol(\"features\")\\\n",
    "    .setLabelCol(\"DVBucket\")\n",
    "\n",
    "logrr = LogisticRegression()\\\n",
    "    .setFeaturesCol(\"features\")\\\n",
    "    .setLabelCol(\"DVBucket\")"
   ]
  },
  {
   "cell_type": "markdown",
   "metadata": {},
   "source": [
    "<br><br><br>\n",
    "<span style=\"color:green;font-size:xx-large\">STEP 8: Create the two pipelines</span>\n",
    "\n",
    "<li>Create p1 with two stages: the bucketizer that uses QuantileDiscretizer and the assembler</li>\n",
    "<li>Create p2 with two stages: p1 and logistic regression</li>\n",
    "<li>Create p3 with two stages: p1 and random forest classifier</li>"
   ]
  },
  {
   "cell_type": "code",
   "execution_count": 184,
   "metadata": {},
   "outputs": [],
   "source": [
    "p1 = Pipeline().setStages([bucketizer, assembler])\n",
    "p2 = Pipeline().setStages([p1, logrr])\n",
    "p3 = Pipeline().setStages([p1, rrr])"
   ]
  },
  {
   "cell_type": "markdown",
   "metadata": {},
   "source": [
    "<br><br><br>\n",
    "<span style=\"color:green;font-size:xx-large\">STEP 9: Run the two pipelines with training data</span>\n"
   ]
  },
  {
   "cell_type": "code",
   "execution_count": 185,
   "metadata": {},
   "outputs": [],
   "source": [
    "lrmodel = p2.fit(prepareData(train))\n",
    "rcmodel = p3.fit(prepareData(train))"
   ]
  },
  {
   "cell_type": "markdown",
   "metadata": {},
   "source": [
    "<br><br><br>\n",
    "<span style=\"color:green;font-size:xx-large\">STEP 10: Get predictions for both models</span>\n",
    "\n"
   ]
  },
  {
   "cell_type": "code",
   "execution_count": 186,
   "metadata": {},
   "outputs": [],
   "source": [
    "lr_pred = lrmodel.transform(prepareData(test))\n",
    "rc_pred = rcmodel.transform(prepareData(test))\n"
   ]
  },
  {
   "attachments": {},
   "cell_type": "markdown",
   "metadata": {},
   "source": [
    "<br><br><br>\n",
    "<span style=\"color:green;font-size:xx-large\">STEP 11: Print testing stats for each model</span>\n",
    "<li>Accuracy</li>\n",
    "<li>Area under ROC</li>\n",
    "<li>Area under Precision-Recall curve</li>\n",
    "<li>Use <a href=\"https://spark.apache.org/docs/latest/api/python/reference/api/pyspark.ml.evaluation.BinaryClassificationEvaluator.html#pyspark.ml.evaluation.BinaryClassificationEvaluator.metricName\">BinaryClassificationEvaluator</a> for the area under ROC and area under precision-recall curve</li>\n",
    "<li>Use <a href=\"https://spark.apache.org/docs/latest//api/python/reference/api/pyspark.ml.evaluation.MulticlassClassificationEvaluator.html\">MulticlassClassificationEvaluator</a> for accuracy</li>\n"
   ]
  },
  {
   "cell_type": "code",
   "execution_count": 187,
   "metadata": {},
   "outputs": [
    {
     "name": "stdout",
     "output_type": "stream",
     "text": [
      "Test Area Under ROC Logisitic Regression 0.9197116200650872\n",
      "Test Area Under ROC Random Forest Classifier 0.9080029521663006\n",
      "Test Area under PR Logistic Regression 0.921832503169575\n",
      "Test Area under PR Random Forest Classifier 0.9123464966429706\n",
      "Test Accuracy Logistic Regression 0.8415552855407047\n",
      "Test Accuracy Random Forest Classifier 0.8216281895504253\n"
     ]
    }
   ],
   "source": [
    "binary_evaluator = BinaryClassificationEvaluator()\\\n",
    "                .setLabelCol(\"DVBucket\")\\\n",
    "                .setRawPredictionCol(\"rawPrediction\")\n",
    "\n",
    "\n",
    "multi_evaluator = MulticlassClassificationEvaluator()\\\n",
    "                .setLabelCol(\"DVBucket\")\\\n",
    "                .setPredictionCol(\"prediction\")\n",
    "\n",
    "lr_areaROC = binary_evaluator.setMetricName(\"areaUnderROC\").evaluate(lr_pred)\n",
    "lr_areaPR = binary_evaluator.setMetricName(\"areaUnderPR\").evaluate(lr_pred)\n",
    "lr_acc_test = acc_evaluator.setMetricName(\"accuracy\").evaluate(lr_pred)\n",
    "\n",
    "rc_areaROC = binary_evaluator.setMetricName(\"areaUnderROC\").evaluate(rc_pred)\n",
    "rc_areaPR = binary_evaluator.setMetricName(\"areaUnderPR\").evaluate(rc_pred)\n",
    "rc_acc_test = acc_evaluator.setMetricName(\"accuracy\").evaluate(rc_pred)\n",
    "\n",
    "print(\"Test Area Under ROC Logisitic Regression {0}\".format(lr_areaROC))\n",
    "print(\"Test Area Under ROC Random Forest Classifier {0}\".format(rc_areaROC))\n",
    "\n",
    "print(\"Test Area under PR Logistic Regression {0}\".format(lr_areaPR))\n",
    "print(\"Test Area under PR Random Forest Classifier {0}\".format(rc_areaPR))\n",
    "\n",
    "print(\"Test Accuracy Logistic Regression {0}\".format(lr_acc_test))\n",
    "print(\"Test Accuracy Random Forest Classifier {0}\".format(rc_acc_test))"
   ]
  },
  {
   "attachments": {},
   "cell_type": "markdown",
   "metadata": {},
   "source": [
    "<br><br><br>\n",
    "<span style=\"color:green;font-size:xx-large\">STEP 12: Print coefficients of the logistic regression</span>\n",
    "<li>Notice how this is different from the linear regression coefficients</li>\n",
    "<li>Still dominated by income but some other flavors have crept in</li>"
   ]
  },
  {
   "cell_type": "code",
   "execution_count": 192,
   "metadata": {},
   "outputs": [
    {
     "name": "stdout",
     "output_type": "stream",
     "text": [
      "       beta           feature\n",
      "0  0.025761         MedianAge\n",
      "1 -0.001325        Population\n",
      "2  0.004379        Households\n",
      "3  1.316013      MedianIncome\n",
      "4 -0.239172     RoomsPerHouse\n",
      "5  0.000757    PeoplePerHouse\n",
      "6  1.604178  BedroomsPerHouse\n",
      "7 -1.731346          Latitude\n",
      "8 -1.720362         Longitude\n"
     ]
    }
   ],
   "source": [
    "import pandas as pd\n",
    "\n",
    "feature_cols = list(prepareData(train).columns)\n",
    "feature_cols.remove('MedianHomeValue')\n",
    "\n",
    "lr_coeff = lrmodel.stages[1].coefficients\n",
    "\n",
    "lr_coef_df = pd.DataFrame(data={'beta': lr_coeff, 'feature': feature_cols})\n",
    "print(lr_coef_df)"
   ]
  },
  {
   "cell_type": "markdown",
   "metadata": {},
   "source": [
    "<li>https://spark.apache.org/docs/latest/mllib-evaluation-metrics.html#binary-classification</li>"
   ]
  },
  {
   "attachments": {},
   "cell_type": "markdown",
   "metadata": {},
   "source": [
    "<br><br><br>\n",
    "<span style=\"color:green;font-size:xx-large\">STEP 13: Draw testing ROC curves</span>\n",
    "<li>Two charts in a side by side grid, the first the ROC Curve for the LR model and the second the ROC curve for the RF model</li>\n",
    "<li>AreaUnderROC values in each chart</li>\n",
    "<li>For this, the easiest is to use sklearn's roc functionalities</li>\n",
    "<li>The predictions contain two useful columns, the probability and the dependent value bucket</li>\n",
    "<li>Extract these into a data frame</li>\n",
    "<li>Note that the probability is expressed as a pair (probability of 0 and probability of 1)</li>\n",
    "<li>Extract the probability of 1 from this (convert the df into an rdd, it will be easier!)</li>\n",
    "<li>Also convert all values to float from Spark DoubleType (sklearn won't understand DoubleType)</li>"
   ]
  },
  {
   "cell_type": "code",
   "execution_count": 262,
   "metadata": {},
   "outputs": [
    {
     "data": {
      "image/png": "[encoded data removed]",
      "text/plain": [
       "<Figure size 1152x432 with 2 Axes>"
      ]
     },
     "metadata": {
      "needs_background": "light"
     },
     "output_type": "display_data"
    }
   ],
   "source": [
    "from sklearn.metrics import roc_curve\n",
    "import matplotlib.pyplot as plt\n",
    "\n",
    "# getting the logistic regression model prediction probabilities and labels\n",
    "lr_prob_1 = lr_pred.rdd.map(lambda x: float(x.probability[1])).collect()\n",
    "lr_dvbucket = lr_pred.rdd.map(lambda x: float(x.DVBucket)).collect()\n",
    "\n",
    "# getting the random forest model prediction probabilities and labels\n",
    "rc_prob_1 = rc_pred.rdd.map(lambda x: float(x.probability[1])).collect()\n",
    "rc_dvbucket = rc_pred.rdd.map(lambda x: float(x.DVBucket)).collect()\n",
    "\n",
    "fig, axes = plt.subplots(1,2,figsize=(16,6))\n",
    "fig.suptitle(\"Comparison of Models\", fontsize=16)\n",
    "axes[0].set_title(\"ROC Curve LR Model\")\n",
    "axes[1].set_title(\"ROC Curve RF Model\")\n",
    "\n",
    "\n",
    "### ROC Curve LR Model\n",
    "lr_fpr, lr_tpr, _ = roc_curve(lr_dvbucket, lr_prob_1)\n",
    "\n",
    "axes[0].plot(lr_fpr, lr_tpr)\n",
    "axes[0].plot([0,1], [0,1], linestyle='--', color='r')\n",
    "axes[0].annotate(\"auc= {:.2f}\".format(lr_areaROC), xy=(0.8, 0.2))\n",
    "axes[0].set_xlabel(\"FPR\")\n",
    "axes[0].set_ylabel(\"TPR\")\n",
    "\n",
    "### ROC Curve RF Model\n",
    "rc_fpr, rc_tpr, _ = roc_curve(rc_dvbucket, rc_prob_1)\n",
    "\n",
    "axes[1].plot(rc_fpr, rc_tpr)\n",
    "axes[1].plot([0,1], [0,1], linestyle='--', color='r')\n",
    "axes[1].annotate(\"auc= {:.2f}\".format(rc_areaROC), xy=(0.8, 0.2))\n",
    "axes[1].set_xlabel(\"FPR\")\n",
    "axes[1].set_ylabel(\"TPR\")\n",
    "\n",
    "plt.show();"
   ]
  }
 ],
 "metadata": {
  "kernelspec": {
   "display_name": "Python 3.9 (tensorflow)",
   "language": "python",
   "name": "tensorflow"
  },
  "language_info": {
   "codemirror_mode": {
    "name": "ipython",
    "version": 3
   },
   "file_extension": ".py",
   "mimetype": "text/x-python",
   "name": "python",
   "nbconvert_exporter": "python",
   "pygments_lexer": "ipython3",
   "version": "3.9.7"
  },
  "toc": {
   "base_numbering": 1,
   "nav_menu": {},
   "number_sections": true,
   "sideBar": true,
   "skip_h1_title": false,
   "title_cell": "Table of Contents",
   "title_sidebar": "Contents",
   "toc_cell": false,
   "toc_position": {},
   "toc_section_display": true,
   "toc_window_display": false
  }
 },
 "nbformat": 4,
 "nbformat_minor": 2
}
